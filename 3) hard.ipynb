{
 "cells": [
  {
   "cell_type": "code",
   "execution_count": 20,
   "id": "a1f49931",
   "metadata": {},
   "outputs": [
    {
     "name": "stdout",
     "output_type": "stream",
     "text": [
      "4\n",
      "115\n",
      "667\n",
      "55\n",
      "11\n",
      "Boom!\n"
     ]
    }
   ],
   "source": [
    "#https://edabit.com/challenge/BokhFunYBvsvHEjfx\n",
    "\n",
    "n = int(input()) \n",
    "s = []\n",
    "k=0\n",
    "for i in range(n):\n",
    "    s.append(input())\n",
    "    if '7' in s[i]: k=k+1\n",
    "if k>0: print (\"Boom!\")\n",
    "else: print(\"there is no 7 in the array\")"
   ]
  },
  {
   "cell_type": "code",
   "execution_count": null,
   "id": "2871a813",
   "metadata": {},
   "outputs": [],
   "source": []
  }
 ],
 "metadata": {
  "kernelspec": {
   "display_name": "Python 3",
   "language": "python",
   "name": "python3"
  },
  "language_info": {
   "codemirror_mode": {
    "name": "ipython",
    "version": 3
   },
   "file_extension": ".py",
   "mimetype": "text/x-python",
   "name": "python",
   "nbconvert_exporter": "python",
   "pygments_lexer": "ipython3",
   "version": "3.8.8"
  }
 },
 "nbformat": 4,
 "nbformat_minor": 5
}
