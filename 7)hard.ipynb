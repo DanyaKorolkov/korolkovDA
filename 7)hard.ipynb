{
 "cells": [
  {
   "cell_type": "code",
   "execution_count": 69,
   "id": "2937dd60",
   "metadata": {
    "scrolled": true
   },
   "outputs": [
    {
     "name": "stdout",
     "output_type": "stream",
     "text": [
      "15\n",
      "7\n",
      "5\n",
      "22\n",
      "11\n",
      "1\n",
      "47.08\n"
     ]
    }
   ],
   "source": [
    "# https://edabit.com/challenge/fNQEi9Y2adsERgn98\n",
    "\n",
    "n = 3\n",
    "m = 2\n",
    "a = []\n",
    "for i in range(n):\n",
    "    a_add = []\n",
    "    \n",
    "    for j in range(m):\n",
    "        a_add.append(int(input()) )\n",
    "        \n",
    "    a.append(a_add)\n",
    "    \n",
    "first = ( (a[1][0] - a[0][0] )**2 + ( a[1][1] - a[0][1] )**2)**(1/2)\n",
    "second = ((a[2][0] - a[1][0])**2 + (a[2][1] - a[1][1])**2)**(1/2)\n",
    "third = ((a[0][0] - a[2][0])**2 + (a[0][1] - a[2][1])**2)**(1/2)\n",
    "\n",
    "P = first + second + third\n",
    "P = float('{:.2f}'.format(P))\n",
    "print(P)"
   ]
  },
  {
   "cell_type": "markdown",
   "id": "d165b7f4",
   "metadata": {},
   "source": [
    "# "
   ]
  },
  {
   "cell_type": "code",
   "execution_count": null,
   "id": "87e6e6d5",
   "metadata": {},
   "outputs": [],
   "source": [
    "(a[1][0] - a[0][0])*(a[2][1] - a[0][1]) - (a[2][0] - a[0][0])*(a[1][1] - a[0][1]))"
   ]
  }
 ],
 "metadata": {
  "kernelspec": {
   "display_name": "Python 3",
   "language": "python",
   "name": "python3"
  },
  "language_info": {
   "codemirror_mode": {
    "name": "ipython",
    "version": 3
   },
   "file_extension": ".py",
   "mimetype": "text/x-python",
   "name": "python",
   "nbconvert_exporter": "python",
   "pygments_lexer": "ipython3",
   "version": "3.8.8"
  }
 },
 "nbformat": 4,
 "nbformat_minor": 5
}
