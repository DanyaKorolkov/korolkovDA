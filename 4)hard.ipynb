{
 "cells": [
  {
   "cell_type": "code",
   "execution_count": null,
   "id": "f4cca06d",
   "metadata": {},
   "outputs": [],
   "source": [
    "#https://edabit.com/challenge/G9QRtAGXb9Cu368Pw\n",
    "\n",
    "s = 0\n",
    "j = 1\n",
    "while (True):\n",
    "    s =( input() )\n",
    "    if s != '':\n",
    "        if s != 0:\n",
    "            j=j*int(s)\n",
    "    else:\n",
    "        print(j)\n",
    "        break"
   ]
  }
 ],
 "metadata": {
  "kernelspec": {
   "display_name": "Python 3",
   "language": "python",
   "name": "python3"
  },
  "language_info": {
   "codemirror_mode": {
    "name": "ipython",
    "version": 3
   },
   "file_extension": ".py",
   "mimetype": "text/x-python",
   "name": "python",
   "nbconvert_exporter": "python",
   "pygments_lexer": "ipython3",
   "version": "3.8.8"
  }
 },
 "nbformat": 4,
 "nbformat_minor": 5
}
