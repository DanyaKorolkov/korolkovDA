{
 "cells": [
  {
   "cell_type": "code",
   "execution_count": 15,
   "id": "a9baf700",
   "metadata": {},
   "outputs": [
    {
     "name": "stdout",
     "output_type": "stream",
     "text": [
      "5\n",
      "34560\n"
     ]
    }
   ],
   "source": [
    "#https://edabit.com/challenge/f3jX2BwzAuR8DXsy4\n",
    "\n",
    "def fact_of_fact(n):\n",
    "    f=1\n",
    "    for i in range(1, n+1):\n",
    "        j=i\n",
    "        while j>1:\n",
    "            f=f*j\n",
    "            j=j-1\n",
    "    print(f)\n",
    "    \n",
    "n = int(input()) \n",
    "fact_of_fact(n)"
   ]
  }
 ],
 "metadata": {
  "kernelspec": {
   "display_name": "Python 3",
   "language": "python",
   "name": "python3"
  },
  "language_info": {
   "codemirror_mode": {
    "name": "ipython",
    "version": 3
   },
   "file_extension": ".py",
   "mimetype": "text/x-python",
   "name": "python",
   "nbconvert_exporter": "python",
   "pygments_lexer": "ipython3",
   "version": "3.8.8"
  }
 },
 "nbformat": 4,
 "nbformat_minor": 5
}
