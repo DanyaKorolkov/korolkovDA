{
 "cells": [
  {
   "cell_type": "code",
   "execution_count": 23,
   "id": "abdb66eb",
   "metadata": {},
   "outputs": [
    {
     "name": "stdout",
     "output_type": "stream",
     "text": [
      "hello\n",
      "he...he...hello?\n"
     ]
    }
   ],
   "source": [
    "#https://edabit.com/challenge/gt9LLufDCMHKMioh2\n",
    "\n",
    "word = input()\n",
    "n = len(word)\n",
    "if n>2:\n",
    "    for i in range(2):\n",
    "        print (word[0:2], sep='',end= \"...\")\n",
    "    print(word, \"?\", sep='')\n",
    "else: print('word is short')\n",
    "    \n",
    "    "
   ]
  },
  {
   "cell_type": "code",
   "execution_count": null,
   "id": "c03697ac",
   "metadata": {},
   "outputs": [],
   "source": []
  }
 ],
 "metadata": {
  "kernelspec": {
   "display_name": "Python 3",
   "language": "python",
   "name": "python3"
  },
  "language_info": {
   "codemirror_mode": {
    "name": "ipython",
    "version": 3
   },
   "file_extension": ".py",
   "mimetype": "text/x-python",
   "name": "python",
   "nbconvert_exporter": "python",
   "pygments_lexer": "ipython3",
   "version": "3.8.8"
  }
 },
 "nbformat": 4,
 "nbformat_minor": 5
}
