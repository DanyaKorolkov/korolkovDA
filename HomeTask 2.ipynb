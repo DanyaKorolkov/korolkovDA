{
 "cells": [
  {
   "cell_type": "code",
   "execution_count": 255,
   "id": "f2b815fe-e2c1-4db3-9256-cbcb44dad5e7",
   "metadata": {
    "tags": []
   },
   "outputs": [
    {
     "name": "stdout",
     "output_type": "stream",
     "text": [
      "[[0.84724051 0.99395221 0.31094683]\n",
      " [0.51743017 0.10936766 0.57725702]\n",
      " [0.44106041 0.07205778 0.07316991]\n",
      " [0.61922855 0.99487943 0.71744869]\n",
      " [0.22490415 0.82603095 0.55642371]\n",
      " [0.55721307 0.05002286 0.11630879]\n",
      " [0.42187489 0.65330284 0.38447651]\n",
      " [0.79392109 0.75940695 0.52051839]\n",
      " [0.62957899 0.7410495  0.0830871 ]\n",
      " [0.89995929 0.06227679 0.37632707]]\n",
      "0 -я строчка:  0.31094683392539413\n",
      "1 -я строчка:  0.5174301663545628\n",
      "2 -я строчка:  0.4410604052048629\n",
      "3 -я строчка:  0.6192285520795449\n",
      "4 -я строчка:  0.5564237114271346\n",
      "5 -я строчка:  0.5572130696085323\n",
      "6 -я строчка:  0.4218748866635985\n",
      "7 -я строчка:  0.520518391040541\n",
      "8 -я строчка:  0.6295789857552175\n",
      "9 -я строчка:  0.3763270657848615\n"
     ]
    }
   ],
   "source": [
    "#number 1\n",
    "\n",
    "import math\n",
    "import numpy as np\n",
    "\n",
    "arr = np.random.random((10,3))\n",
    "print(arr)\n",
    "for i in range(arr.shape[0]):\n",
    "    l = 1\n",
    "    m = 0\n",
    "    for j in range(arr.shape[1]):\n",
    "        f = abs(arr[i,j] - 0.5)\n",
    "        if f<l:\n",
    "            l = f\n",
    "            m = arr[i,j]\n",
    "    print (i, \"-я строчка: \", m)"
   ]
  },
  {
   "cell_type": "code",
   "execution_count": 275,
   "id": "fa8248b9-8bd1-4529-8471-3a5ce965fcbf",
   "metadata": {},
   "outputs": [
    {
     "name": "stdout",
     "output_type": "stream",
     "text": [
      "[[0.69580283 0.52669252 0.72848284 0.86194394 0.270459   0.91963033]\n",
      " [0.94430787 0.4053106  0.64960353 0.83861782 0.27720915 0.25137524]\n",
      " [0.49945103 0.20957129 0.91823744 0.87345976 0.04648958 0.38811785]\n",
      " [0.91961535 0.43042171 0.09078702 0.50660258 0.39751854 0.81233655]\n",
      " [0.98282568 0.96100592 0.76014279 0.02051695 0.97351209 0.6140134 ]\n",
      " [0.69222044 0.21179851 0.12662583 0.20153234 0.74638629 0.55596472]]\n",
      "8.014822752211591\n",
      "16.063384105082502\n",
      "32.332012602996684\n",
      "153.88654326229081\n",
      "92.75233397096204\n",
      "10.08264845852327\n"
     ]
    }
   ],
   "source": [
    "#number 2\n",
    "\n",
    "import numpy as np\n",
    "\n",
    "arr = np.random.random((6,6))\n",
    "print (arr)\n",
    "for i in range(6): \n",
    "\n",
    "    print(sum(arr[i]) / (np.min(arr, axis = 0))[i])"
   ]
  },
  {
   "cell_type": "code",
   "execution_count": 291,
   "id": "d8ee26f5-0e9f-432a-b9bf-02792c2b9fc0",
   "metadata": {},
   "outputs": [
    {
     "name": "stdout",
     "output_type": "stream",
     "text": [
      "5\n"
     ]
    }
   ],
   "source": [
    "#number 3\n",
    "\n",
    "l = 0\n",
    "x = np.array([6, 2, 0, 3, 0, 0, 5, 7, 0])\n",
    "for i in range (len (x)):\n",
    "    if (x[i] > 0 and i>0 and x[i-1] == 0):\n",
    "        if (x[i] > l):\n",
    "            l = x[i]\n",
    "print (l)"
   ]
  },
  {
   "cell_type": "code",
   "execution_count": 303,
   "id": "a2f08215-7f22-450b-8d4f-0c883ff4b8cf",
   "metadata": {},
   "outputs": [
    {
     "name": "stdout",
     "output_type": "stream",
     "text": [
      "[2. 2. 2. 2. 1. 4. 1. 1. 2. 1.]\n"
     ]
    }
   ],
   "source": [
    "#number 4\n",
    "\n",
    "x = np.ones(10)\n",
    "i = np.array([0, 1, 2, 3, 5, 5, 5, 8])\n",
    "for j in range(len(i)):\n",
    "    x[i[j]] += 1  \n",
    "print (x)"
   ]
  },
  {
   "cell_type": "code",
   "execution_count": 32,
   "id": "67085191-3d4d-4c56-926d-4bee7c73bd27",
   "metadata": {},
   "outputs": [
    {
     "name": "stdout",
     "output_type": "stream",
     "text": [
      "nc =  [ 0.  3.  8. 16.] [-2. 13. -2.  3.] [3. 2. 2. 2.] \n",
      "\n",
      "\n",
      "centr[:,2] =  [0.66666667 2.12132034 1.41421356 2.06155281]\n",
      "nc =  [ 0.  3.  3. 21.] [-2. 13. -2.  3.] [3. 2. 1. 3.] \n",
      "\n",
      "\n",
      "centr[:,2] =  [0.44444444 3.33541602 1.80277564 3.01039864]\n",
      "nc =  [-1.  3. 13. 12.] [-3. 13. -1.  3.] [2. 2. 2. 3.] \n",
      "\n",
      "\n",
      "centr[:,2] =  [1.372121   3.33541602 3.80788655 1.79505494]\n",
      "nc =  [-1.  3. 24.  1.] [-3. 13.  1.  1.] [2. 2. 4. 1.] \n",
      "\n",
      "\n",
      "centr[:,2] =  [0.79056942 3.33541602 2.79508497 0.74535599]\n",
      "nc =  [-1.  3. 24.  1.] [-3. 13.  1.  1.] [2. 2. 4. 1.] \n",
      "\n",
      "\n",
      "centr[:,2] =  [0.79056942 3.33541602 4.50390456 0.        ]\n",
      "nc =  [-1.  3. 24.  1.] [-3. 13.  1.  1.] [2. 2. 4. 1.] \n",
      "\n",
      "\n",
      "centr[:,2] =  [0.79056942 3.33541602 4.50390456 0.        ]\n",
      "nc =  [-1.  3. 24.  1.] [-3. 13.  1.  1.] [2. 2. 4. 1.] \n",
      "\n",
      "\n",
      "centr[:,2] =  [0.79056942 3.33541602 4.50390456 0.        ]\n",
      "nc =  [-1.  3. 24.  1.] [-3. 13.  1.  1.] [2. 2. 4. 1.] \n",
      "\n",
      "\n",
      "centr[:,2] =  [0.79056942 3.33541602 4.50390456 0.        ]\n",
      "nc =  [-1.  3. 24.  1.] [-3. 13.  1.  1.] [2. 2. 4. 1.] \n",
      "\n",
      "\n",
      "centr[:,2] =  [0.79056942 3.33541602 4.50390456 0.        ]\n",
      "nc =  [-1.  3. 24.  1.] [-3. 13.  1.  1.] [2. 2. 4. 1.] \n",
      "\n",
      "\n",
      "centr[:,2] =  [0.79056942 3.33541602 4.50390456 0.        ]\n",
      "nc =  [-1.  3. 24.  1.] [-3. 13.  1.  1.] [2. 2. 4. 1.] \n",
      "\n",
      "\n",
      "centr[:,2] =  [0.79056942 3.33541602 4.50390456 0.        ]\n"
     ]
    },
    {
     "data": {
      "image/png": "[encoded data removed]",
      "text/plain": [
       "<Figure size 432x288 with 1 Axes>"
      ]
     },
     "metadata": {
      "needs_background": "light"
     },
     "output_type": "display_data"
    }
   ],
   "source": [
    "#number 5\n",
    "import matplotlib.pyplot as plt\n",
    "import math\n",
    "import numpy as np\n",
    "\n",
    "\n",
    "def k_means (data, k, e):\n",
    "    \n",
    "    centr = np.zeros(k*3).reshape((k,3)) \n",
    "    centr[:, [0,1]] = data[:k, [0,1]]\n",
    "    centr[:, 2] = 10*e \n",
    "\n",
    "    new_coordinate = np.zeros(k*3).reshape((k,3))\n",
    "\n",
    "    dist = np.zeros(len(data)*k).reshape((len(data), k))\n",
    "    count = 0\n",
    "    while (count <=10):\n",
    "   \n",
    "        for i in range(len(data)):\n",
    "            dist[i][:] =  ((data[i,0] - centr[:,0])**2 + (data[i,1] - centr[:,1])**2)**(1/2)\n",
    "            arg = np.argmin(dist[i])\n",
    "            new_coordinate[arg, 0] += data[i,0]\n",
    "            new_coordinate[arg, 1] += data[i,1]\n",
    "            new_coordinate[arg, 2] += 1\n",
    "        \n",
    "        print (\"nc = \",new_coordinate[:,0], new_coordinate[:,1], new_coordinate[:,2],\"\\n\\n\")\n",
    "        new_coordinate[:,0] = new_coordinate[:,0]/ new_coordinate[:,2]\n",
    "        new_coordinate[:,1] = new_coordinate[:,1]/ new_coordinate[:,2]\n",
    "        centr[:,2] = ( (centr[:,0] - new_coordinate[:,0])**2 + (centr[:,1] - new_coordinate[:,1])**2 ) **(1/2)\n",
    "        \n",
    "        print (\"centr[:,2] = \", centr[:,2])\n",
    "        \n",
    "        centr[:,0] = new_coordinate[:,0]/ new_coordinate[:,2]\n",
    "        centr[:,1] = new_coordinate[:,1]/ new_coordinate[:,2]\n",
    "        new_coordinate[:] = 0\n",
    "        count+=1\n",
    "    return centr\n",
    "\n",
    "k = 4\n",
    "e =10**(-5)\n",
    "centr = k_means(data, k, e)\n",
    "\n",
    "data = np.array( [ [0,0],[0,5],[5,0],[6,2],[3,8],[10,1],[-1,-3],[3,-2],[1,1] ] )\n",
    "plt.scatter(data[:,0], data[:,1])\n",
    "plt.scatter(centr[:,0], centr[:,1], c='g')\n",
    "plt.xlabel('x')\n",
    "plt.ylabel('y')\n",
    "plt.show()\n"
   ]
  },
  {
   "cell_type": "code",
   "execution_count": null,
   "id": "c0b600d2-85bf-4746-bc53-a2439828b32e",
   "metadata": {},
   "outputs": [],
   "source": []
  }
 ],
 "metadata": {
  "kernelspec": {
   "display_name": "Python 3",
   "language": "python",
   "name": "python3"
  },
  "language_info": {
   "codemirror_mode": {
    "name": "ipython",
    "version": 3
   },
   "file_extension": ".py",
   "mimetype": "text/x-python",
   "name": "python",
   "nbconvert_exporter": "python",
   "pygments_lexer": "ipython3",
   "version": "3.8.8"
  }
 },
 "nbformat": 4,
 "nbformat_minor": 5
}
