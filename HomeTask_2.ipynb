{
 "cells": [
  {
   "cell_type": "code",
   "execution_count": 2,
   "id": "f2b815fe-e2c1-4db3-9256-cbcb44dad5e7",
   "metadata": {
    "tags": []
   },
   "outputs": [
    {
     "name": "stdout",
     "output_type": "stream",
     "text": [
      "[[0.40478078 0.89649089 0.1340114 ]\n",
      " [0.06164646 0.54470697 0.3752608 ]\n",
      " [0.62015799 0.16989446 0.66112287]\n",
      " [0.27361739 0.29538068 0.92726963]\n",
      " [0.26876764 0.88496909 0.79867133]\n",
      " [0.21591343 0.29401968 0.38418015]\n",
      " [0.05006834 0.76634117 0.27299956]\n",
      " [0.66484227 0.17529646 0.59598651]\n",
      " [0.98718431 0.48629721 0.2028937 ]\n",
      " [0.94872231 0.64087896 0.10260376]]\n",
      "[0.40478078 0.54470697 0.62015799 0.29538068 0.26876764 0.38418015\n",
      " 0.27299956 0.59598651 0.48629721 0.64087896]\n"
     ]
    }
   ],
   "source": [
    "#number 1\n",
    "\n",
    "import math\n",
    "import numpy as np\n",
    "\n",
    "arr = np.random.random((10,3))\n",
    "print(arr)\n",
    "\n",
    "print( arr[np.arange(arr.shape[0]), np.argmin(abs(arr - 0.5), axis = 1)] )"
   ]
  },
  {
   "cell_type": "code",
   "execution_count": 3,
   "id": "fa8248b9-8bd1-4529-8471-3a5ce965fcbf",
   "metadata": {},
   "outputs": [
    {
     "name": "stdout",
     "output_type": "stream",
     "text": [
      "[[0.92936861 0.86108368 0.77516985 0.67689286 0.0112881  0.46552767]\n",
      " [0.6761193  0.33958052 0.66416903 0.75774148 0.18013307 0.94026824]\n",
      " [0.87797026 0.74814598 0.71349025 0.54940024 0.18878687 0.08228973]\n",
      " [0.6334319  0.35867731 0.60248599 0.57496449 0.62915793 0.31861492]\n",
      " [0.2599629  0.98755621 0.34755843 0.90764018 0.82426867 0.93998828]\n",
      " [0.74093754 0.69091117 0.38205692 0.77545773 0.42063886 0.28881189]]\n",
      "14.30716003208813\n",
      "10.477667103307255\n",
      "9.092236068161464\n",
      "5.674064758891329\n",
      "378.0063478673578\n",
      "40.08779865278979\n"
     ]
    }
   ],
   "source": [
    "#number 2\n",
    "\n",
    "mass = np.random.random((6,6))\n",
    "print (mass)\n",
    "for i in range(6): \n",
    "    print(sum(mass[i]) / (np.min(mass, axis = 0))[i])"
   ]
  },
  {
   "cell_type": "code",
   "execution_count": 4,
   "id": "d8ee26f5-0e9f-432a-b9bf-02792c2b9fc0",
   "metadata": {},
   "outputs": [
    {
     "name": "stdout",
     "output_type": "stream",
     "text": [
      "[False False  True False  True  True False  True]\n",
      "[3 0 5 7]\n"
     ]
    }
   ],
   "source": [
    "#number 3 \n",
    "\n",
    "x = np.array([6, 2, 0, 3, 0, 0, 5, 0, 7])\n",
    "\n",
    "zero = (x==0)\n",
    "print(zero[:-1])\n",
    "print ( x[1:][ zero[:-1] ] )\n"
   ]
  },
  {
   "cell_type": "code",
   "execution_count": 5,
   "id": "a2f08215-7f22-450b-8d4f-0c883ff4b8cf",
   "metadata": {},
   "outputs": [
    {
     "name": "stdout",
     "output_type": "stream",
     "text": [
      "[2. 2. 2. 2. 1. 4. 1. 1. 2. 1.]\n"
     ]
    }
   ],
   "source": [
    "#number 4\n",
    "\n",
    "x = np.ones(10)\n",
    "i = np.array([0, 1, 2, 3, 5, 5, 5, 8])\n",
    "\n",
    "for k in i: x[k] += 1\n",
    "print(x)"
   ]
  },
  {
   "cell_type": "code",
   "execution_count": 9,
   "id": "67085191-3d4d-4c56-926d-4bee7c73bd27",
   "metadata": {
    "tags": []
   },
   "outputs": [
    {
     "data": {
      "image/png": "[encoded data removed]",
      "text/plain": [
       "<Figure size 432x288 with 1 Axes>"
      ]
     },
     "metadata": {
      "needs_background": "light"
     },
     "output_type": "display_data"
    }
   ],
   "source": [
    "#number 5: k_means\n",
    "import matplotlib.pyplot as plt\n",
    "import math\n",
    "\n",
    "\n",
    "\n",
    "def k_means (data, k, e):\n",
    "    \n",
    "    centr = np.zeros(k*2).reshape((k,2)) \n",
    "    centr[:, [0,1]] = data[:k, [0,1]]\n",
    "    shift = np.full((k), 10*e) \n",
    "    \n",
    "    new_coordinate = np.ones(k*3).reshape((k,3))\n",
    "    dist = np.zeros(len(data)*k).reshape((len(data), k))\n",
    "    \n",
    "    while (shift.max() >= e ):\n",
    "   \n",
    "        for i in range(len(data)):\n",
    "            dist[i][:] =  ((data[i,0] - centr[:,0])**2 + (data[i,1] - centr[:,1])**2)**(1/2)\n",
    "            arg = np.argmin(dist[i])\n",
    "            new_coordinate[arg, 0] += data[i,0]\n",
    "            new_coordinate[arg, 1] += data[i,1]\n",
    "            new_coordinate[arg, 2] += 1\n",
    "        \n",
    "\n",
    "        new_coordinate[:,0] = new_coordinate[:,0]/ new_coordinate[:,2]\n",
    "        new_coordinate[:,1] = new_coordinate[:,1]/ new_coordinate[:,2]\n",
    "        shift[:] = ( (centr[:,0] - new_coordinate[:,0])**2 + (centr[:,1] - new_coordinate[:,1])**2 ) **(1/2)\n",
    "        \n",
    "\n",
    "        \n",
    "        centr[:,0] = new_coordinate[:,0]\n",
    "        centr[:,1] = new_coordinate[:,1]\n",
    "        new_coordinate[:] = 0\n",
    "\n",
    "\n",
    "    return centr\n",
    "\n",
    "data = np.array( [ [0,0],[0,5],[5,0],[6,2],[3,8],[10,1],[-1,-3],[3,-2],[1,1] ] )\n",
    "\n",
    "k = 3\n",
    "e =10**(-5)\n",
    "centr = k_means(data, k, e)\n",
    "\n",
    "plt.scatter(data[:,0], data[:,1])\n",
    "plt.scatter(centr[:,0], centr[:,1], c='green')\n",
    "plt.xlabel('x')\n",
    "plt.ylabel('y')\n",
    "plt.show()\n"
   ]
  }
 ],
 "metadata": {
  "kernelspec": {
   "display_name": "Python 3 (ipykernel)",
   "language": "python",
   "name": "python3"
  },
  "language_info": {
   "codemirror_mode": {
    "name": "ipython",
    "version": 3
   },
   "file_extension": ".py",
   "mimetype": "text/x-python",
   "name": "python",
   "nbconvert_exporter": "python",
   "pygments_lexer": "ipython3",
   "version": "3.9.7"
  }
 },
 "nbformat": 4,
 "nbformat_minor": 5
}
