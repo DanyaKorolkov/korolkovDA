{
 "cells": [
  {
   "cell_type": "code",
   "execution_count": null,
   "id": "23f94824",
   "metadata": {},
   "outputs": [],
   "source": [
    "#https://edabit.com/challenge/NNhkGocuPMcryW7GP\n",
    "import math\n",
    "\n",
    "n = int(input())\n",
    "if n<=0: \n",
    "    print(\"Number is not positive\")\n",
    "else:\n",
    "    s1 = 2*n*n\n",
    "    s2 = (2*n)**2\n",
    "    s = s2-s1\n",
    "    print(s)\n",
    "\n",
    "\n",
    "    "
   ]
  },
  {
   "cell_type": "markdown",
   "id": "473b154e",
   "metadata": {},
   "source": [
    "##### "
   ]
  }
 ],
 "metadata": {
  "kernelspec": {
   "display_name": "Python 3",
   "language": "python",
   "name": "python3"
  },
  "language_info": {
   "codemirror_mode": {
    "name": "ipython",
    "version": 3
   },
   "file_extension": ".py",
   "mimetype": "text/x-python",
   "name": "python",
   "nbconvert_exporter": "python",
   "pygments_lexer": "ipython3",
   "version": "3.8.8"
  }
 },
 "nbformat": 4,
 "nbformat_minor": 5
}
