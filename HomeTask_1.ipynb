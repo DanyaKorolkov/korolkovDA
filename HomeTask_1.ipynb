{
 "cells": [
  {
   "cell_type": "code",
   "execution_count": 23,
   "id": "abdb66eb",
   "metadata": {},
   "outputs": [
    {
     "name": "stdout",
     "output_type": "stream",
     "text": [
      "hello\n",
      "he...he...hello?\n"
     ]
    }
   ],
   "source": [
    "#EASY\n",
    "\n",
    "#https://edabit.com/challenge/gt9LLufDCMHKMioh2\n",
    "\n",
    "word = input()\n",
    "n = len(word)\n",
    "if n>2:\n",
    "    for i in range(2):\n",
    "        print (word[0:2], sep='',end= \"...\")\n",
    "    print(word, \"?\", sep='')\n",
    "else: print('word is short')\n",
    "    \n",
    "    "
   ]
  },
  {
   "cell_type": "code",
   "execution_count": null,
   "id": "c03697ac",
   "metadata": {},
   "outputs": [],
   "source": [
    "#MEDIUM\n",
    "\n",
    "#https://edabit.com/challenge/NNhkGocuPMcryW7GP\n",
    "import math\n",
    "\n",
    "n = int(input())\n",
    "if n<=0: \n",
    "    print(\"Number is not positive\")\n",
    "else:\n",
    "    s1 = 2*n*n\n",
    "    s2 = (2*n)**2\n",
    "    s = s2-s1\n",
    "    print(s)\n",
    "\n",
    "\n",
    "    "
   ]
  },
  {
   "cell_type": "code",
   "execution_count": null,
   "id": "83fd676b-8b2a-438a-84cb-c5299ad31eac",
   "metadata": {},
   "outputs": [],
   "source": [
    "# HARD\n",
    "#https://edabit.com/challenge/BokhFunYBvsvHEjfx\n",
    "\n",
    "n = int(input()) \n",
    "s = []\n",
    "k=0\n",
    "for i in range(n):\n",
    "    s.append(input())\n",
    "    if '7' in s[i]: k=k+1\n",
    "if k>0: print (\"Boom!\")\n",
    "else: print(\"there is no 7 in the array\")"
   ]
  },
  {
   "cell_type": "code",
   "execution_count": null,
   "id": "c7576681-a861-44e9-959c-636d7e26c43f",
   "metadata": {},
   "outputs": [],
   "source": [
    "# HARD\n",
    "\n",
    "#https://edabit.com/challenge/G9QRtAGXb9Cu368Pw\n",
    "\n",
    "s = 0\n",
    "j = 1\n",
    "while (True):\n",
    "    s =( input() )\n",
    "    if s != '':\n",
    "        if s != 0:\n",
    "            j=j*int(s)\n",
    "    else:\n",
    "        print(j)\n",
    "        break"
   ]
  },
  {
   "cell_type": "code",
   "execution_count": null,
   "id": "51dfaa23-172c-4966-84bc-43614dc37228",
   "metadata": {},
   "outputs": [],
   "source": [
    "# HARD\n",
    "\n",
    "def P(n):\n",
    "    print(int((5*n**2 -5*n + 2)/2))   \n",
    "n=int(input())\n",
    "P(n)\n",
    "\n",
    "\n"
   ]
  },
  {
   "cell_type": "code",
   "execution_count": null,
   "id": "be6f34a5-e276-4064-aaae-8e695cb9e6e9",
   "metadata": {},
   "outputs": [],
   "source": [
    "# HARD\n",
    "\n",
    "#https://edabit.com/challenge/f3jX2BwzAuR8DXsy4\n",
    "\n",
    "def fact_of_fact(n):\n",
    "    f=1\n",
    "    for i in range(1, n+1):\n",
    "        j=i\n",
    "        while j>1:\n",
    "            f=f*j\n",
    "            j=j-1\n",
    "    print(f)\n",
    "    \n",
    "n = int(input()) \n",
    "fact_of_fact(n)"
   ]
  },
  {
   "cell_type": "code",
   "execution_count": null,
   "id": "96336d95-145c-4731-9e95-0d86347e9c0c",
   "metadata": {},
   "outputs": [],
   "source": [
    "# HARD\n",
    "\n",
    "# https://edabit.com/challenge/fNQEi9Y2adsERgn98\n",
    "\n",
    "n = 3\n",
    "m = 2\n",
    "a = []\n",
    "for i in range(n):\n",
    "    a_add = []\n",
    "    \n",
    "    for j in range(m):\n",
    "        a_add.append(int(input()) )\n",
    "        \n",
    "    a.append(a_add)\n",
    "    \n",
    "first = ( (a[1][0] - a[0][0] )**2 + ( a[1][1] - a[0][1] )**2)**(1/2)\n",
    "second = ((a[2][0] - a[1][0])**2 + (a[2][1] - a[1][1])**2)**(1/2)\n",
    "third = ((a[0][0] - a[2][0])**2 + (a[0][1] - a[2][1])**2)**(1/2)\n",
    "\n",
    "P = first + second + third\n",
    "P = float('{:.2f}'.format(P))\n",
    "print(P)"
   ]
  }
 ],
 "metadata": {
  "kernelspec": {
   "display_name": "Python 3",
   "language": "python",
   "name": "python3"
  },
  "language_info": {
   "codemirror_mode": {
    "name": "ipython",
    "version": 3
   },
   "file_extension": ".py",
   "mimetype": "text/x-python",
   "name": "python",
   "nbconvert_exporter": "python",
   "pygments_lexer": "ipython3",
   "version": "3.8.8"
  }
 },
 "nbformat": 4,
 "nbformat_minor": 5
}
